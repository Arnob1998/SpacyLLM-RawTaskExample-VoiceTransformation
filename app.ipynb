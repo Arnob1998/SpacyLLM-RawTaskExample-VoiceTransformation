{
 "cells": [
  {
   "cell_type": "code",
   "execution_count": 1,
   "metadata": {},
   "outputs": [
    {
     "data": {
      "text/plain": [
       "True"
      ]
     },
     "execution_count": 1,
     "metadata": {},
     "output_type": "execute_result"
    }
   ],
   "source": [
    "from spacy_llm.util import assemble\n",
    "from dotenv import load_dotenv\n",
    "import json\n",
    "load_dotenv()"
   ]
  },
  {
   "cell_type": "code",
   "execution_count": 2,
   "metadata": {},
   "outputs": [],
   "source": [
    "import logging\n",
    "import spacy_llm\n",
    "spacy_llm.logger.addHandler(logging.StreamHandler())\n",
    "spacy_llm.logger.setLevel(logging.DEBUG)"
   ]
  },
  {
   "cell_type": "code",
   "execution_count": 3,
   "metadata": {},
   "outputs": [],
   "source": [
    "nlp = assemble(\"fewshot.cfg\")"
   ]
  },
  {
   "cell_type": "code",
   "execution_count": 4,
   "metadata": {},
   "outputs": [
    {
     "name": "stderr",
     "output_type": "stream",
     "text": [
      "Generated prompt for doc: The championship was won after months of hard work by the team\n",
      "['You are a sentence Transformer. You transfrom sentence from active to passive and vise-versa. Your answer should be a JSON with two keys, status(string) and transfromation(string). status is the current state of the sentence is in Active or Passive. transfromation is the converstion from active to passive or vise versa. Below are some examples (only use these as a guide):\\n\\nText:\\nThe chef cooked the delicious meal in the kitchen.\\nReply:\\n{\"status\":\"Active\" , \"transformation\" : \"The delicious meal was cooked in the kitchen by the chef\"}\\n\\nText:\\nSarah finished the project ahead of schedule.\\nReply:\\n{\"status\":\"Active\" , \"transformation\" : \"The project was finished ahead of schedule by Sarah\"}\\n\\nText:\\nThe championship was won after months of hard work by the team\\nReply:']\n",
      "LLM response for doc: The championship was won after months of hard work by the team\n",
      "['{\"status\":\"Passive\" , \"transformation\" : \"The team won the championship after months of hard work\"}']\n"
     ]
    }
   ],
   "source": [
    "nlp = assemble(\"fewshot.cfg\")\n",
    "docs = nlp(\"The championship was won after months of hard work by the team\")"
   ]
  },
  {
   "cell_type": "code",
   "execution_count": 5,
   "metadata": {},
   "outputs": [
    {
     "data": {
      "text/plain": [
       "'The championship was won after months of hard work by the team'"
      ]
     },
     "execution_count": 5,
     "metadata": {},
     "output_type": "execute_result"
    }
   ],
   "source": [
    "docs.text"
   ]
  },
  {
   "cell_type": "code",
   "execution_count": 6,
   "metadata": {},
   "outputs": [
    {
     "data": {
      "text/plain": [
       "{('._.',\n",
       "  'llm_reply',\n",
       "  None,\n",
       "  None): '{\"status\":\"Passive\" , \"transformation\" : \"The team won the championship after months of hard work\"}'}"
      ]
     },
     "execution_count": 6,
     "metadata": {},
     "output_type": "execute_result"
    }
   ],
   "source": [
    "docs.user_data"
   ]
  },
  {
   "cell_type": "code",
   "execution_count": 7,
   "metadata": {},
   "outputs": [],
   "source": [
    "response = docs._.llm_reply"
   ]
  },
  {
   "cell_type": "code",
   "execution_count": 8,
   "metadata": {},
   "outputs": [],
   "source": [
    "response = json.loads(response)"
   ]
  },
  {
   "cell_type": "code",
   "execution_count": 9,
   "metadata": {},
   "outputs": [
    {
     "data": {
      "text/plain": [
       "{'status': 'Passive',\n",
       " 'transformation': 'The team won the championship after months of hard work'}"
      ]
     },
     "execution_count": 9,
     "metadata": {},
     "output_type": "execute_result"
    }
   ],
   "source": [
    "response"
   ]
  },
  {
   "cell_type": "code",
   "execution_count": 38,
   "metadata": {},
   "outputs": [],
   "source": [
    "# https://spacy.io/api/doc"
   ]
  }
 ],
 "metadata": {
  "kernelspec": {
   "display_name": "sythsoul_fastapi_spacy",
   "language": "python",
   "name": "python3"
  },
  "language_info": {
   "codemirror_mode": {
    "name": "ipython",
    "version": 3
   },
   "file_extension": ".py",
   "mimetype": "text/x-python",
   "name": "python",
   "nbconvert_exporter": "python",
   "pygments_lexer": "ipython3",
   "version": "3.11.8"
  }
 },
 "nbformat": 4,
 "nbformat_minor": 2
}
